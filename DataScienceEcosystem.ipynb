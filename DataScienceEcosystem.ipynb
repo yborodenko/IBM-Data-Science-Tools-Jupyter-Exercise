{
 "cells": [
  {
   "cell_type": "markdown",
   "id": "c902aeff-d15e-430e-9343-18e12619a1e0",
   "metadata": {
    "tags": []
   },
   "source": [
    "# Data Science Tools and Ecosystem"
   ]
  },
  {
   "cell_type": "markdown",
   "id": "73155bd3-77b8-4d75-9fcd-07b5cb9844a6",
   "metadata": {},
   "source": [
    "In this notebook, Data Science Tools and Ecosystem are summarized."
   ]
  },
  {
   "cell_type": "markdown",
   "id": "039165b8-4096-4e61-91ad-941dc7a29cea",
   "metadata": {},
   "source": [
    "Some of the popular languages that Data Scientists use are:\n",
    "1. SQL\n",
    "2. R\n",
    "3. Python"
   ]
  },
  {
   "cell_type": "markdown",
   "id": "20115d76-7cd9-4083-bf27-eb5b965b70db",
   "metadata": {},
   "source": [
    "Some of the commonly used libraries used by Data Scientists include:\n",
    "1. Pandas\n",
    "2. SciKit-Learn\n",
    "3. NumPy"
   ]
  },
  {
   "cell_type": "markdown",
   "id": "52349075-a300-4af0-999b-0a93ac75de1b",
   "metadata": {},
   "source": [
    "|Data Science Tools|\n",
    "|---|\n",
    "|Apache Hadoop|\n",
    "|RStudio|\n",
    "|VS Code|"
   ]
  },
  {
   "cell_type": "markdown",
   "id": "43db7e75-27b4-47d3-b150-03a90f2e24e1",
   "metadata": {},
   "source": [
    "### Below are a few examples of evaluating arithmetic expressions in Python"
   ]
  },
  {
   "cell_type": "code",
   "execution_count": 3,
   "id": "4b454080-a6c2-40a8-92c2-a8e53f3f791b",
   "metadata": {
    "tags": []
   },
   "outputs": [
    {
     "data": {
      "text/plain": [
       "17"
      ]
     },
     "execution_count": 3,
     "metadata": {},
     "output_type": "execute_result"
    }
   ],
   "source": [
    "#this is a simple arithmetic example to multiple then add integers\n",
    "(3*4)+5"
   ]
  },
  {
   "cell_type": "code",
   "execution_count": 4,
   "id": "4b5e08c3-1a78-4509-932c-9f1a7354a8eb",
   "metadata": {
    "tags": []
   },
   "outputs": [
    {
     "data": {
      "text/plain": [
       "3.3333333333333335"
      ]
     },
     "execution_count": 4,
     "metadata": {},
     "output_type": "execute_result"
    }
   ],
   "source": [
    "#This will convert 200 minutes to hours by dividing by 60\n",
    "200/60"
   ]
  },
  {
   "cell_type": "markdown",
   "id": "e38eb991-930b-4df9-95c0-98a72c8896f4",
   "metadata": {},
   "source": [
    "__Objectives:__\n",
    "* List popular languages for Data Science\n",
    "* List Data Science Libraries\n",
    "* Create a list of Data Science Tools"
   ]
  },
  {
   "cell_type": "markdown",
   "id": "1dd404bb-46f4-488e-9fb1-8fbe725eda3c",
   "metadata": {},
   "source": [
    "## Author\n",
    "Yaroslav Borodenko"
   ]
  },
  {
   "cell_type": "code",
   "execution_count": null,
   "id": "58911302-31b9-4ad6-b9ef-7489a4e447aa",
   "metadata": {},
   "outputs": [],
   "source": []
  }
 ],
 "metadata": {
  "kernelspec": {
   "display_name": "Python",
   "language": "python",
   "name": "conda-env-python-py"
  },
  "language_info": {
   "codemirror_mode": {
    "name": "ipython",
    "version": 3
   },
   "file_extension": ".py",
   "mimetype": "text/x-python",
   "name": "python",
   "nbconvert_exporter": "python",
   "pygments_lexer": "ipython3",
   "version": "3.7.12"
  }
 },
 "nbformat": 4,
 "nbformat_minor": 5
}
